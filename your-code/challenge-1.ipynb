{
 "cells": [
  {
   "cell_type": "markdown",
   "metadata": {},
   "source": [
    "# Challenge 1 - T-test\n",
    "\n",
    "In statistics, t-test is used to test if two data samples have a significant difference between their means. There are two types of t-test:\n",
    "\n",
    "* **Student's t-test** (a.k.a. independent or uncorrelated t-test). This type of t-test is to compare the samples of **two independent populations** (e.g. test scores of students in two different classes). `scipy` provides the [`ttest_ind`](https://docs.scipy.org/doc/scipy-0.15.1/reference/generated/scipy.stats.ttest_ind.html) method to conduct student's t-test.\n",
    "\n",
    "* **Paired t-test** (a.k.a. dependent or correlated t-test). This type of t-test is to compare the samples of **the same population** (e.g. scores of different tests of students in the same class). `scipy` provides the [`ttest_re`](https://docs.scipy.org/doc/scipy-0.15.1/reference/generated/scipy.stats.ttest_rel.html) method to conduct paired t-test.\n",
    "\n",
    "Both types of t-tests return a number which is called the **p-value**. If p-value is below 0.05, we can confidently declare the null-hypothesis is rejected and the difference is significant. If p-value is between 0.05 and 0.1, we may also declare the null-hypothesis is rejected but we are not highly confident. If p-value is above 0.1 we do not reject the null-hypothesis.\n",
    "\n",
    "Read more about the t-test in [this article](http://b.link/test50) and [this Quora](http://b.link/unpaired97). Make sure you understand when to use which type of t-test. "
   ]
  },
  {
   "cell_type": "code",
   "execution_count": 1,
   "metadata": {},
   "outputs": [],
   "source": [
    "# Import libraries\n",
    "import pandas as pd\n",
    "from scipy import stats\n",
    "import numpy as np"
   ]
  },
  {
   "cell_type": "markdown",
   "metadata": {},
   "source": [
    "#### Import dataset\n",
    "\n",
    "In this challenge we will work on the Pokemon dataset. The goal is to test whether different groups of pokemon (e.g. Legendary vs Normal, Generation 1 vs 2, single-type vs dual-type) have different stats (e.g. HP, Attack, Defense, etc.)."
   ]
  },
  {
   "cell_type": "code",
   "execution_count": 2,
   "metadata": {},
   "outputs": [
    {
     "output_type": "execute_result",
     "data": {
      "text/plain": [
       "       #                   Name   Type 1  Type 2  Total  HP  Attack  Defense  \\\n",
       "0      1              Bulbasaur    Grass  Poison    318  45      49       49   \n",
       "1      2                Ivysaur    Grass  Poison    405  60      62       63   \n",
       "2      3               Venusaur    Grass  Poison    525  80      82       83   \n",
       "3      3  VenusaurMega Venusaur    Grass  Poison    625  80     100      123   \n",
       "4      4             Charmander     Fire     NaN    309  39      52       43   \n",
       "..   ...                    ...      ...     ...    ...  ..     ...      ...   \n",
       "795  719                Diancie     Rock   Fairy    600  50     100      150   \n",
       "796  719    DiancieMega Diancie     Rock   Fairy    700  50     160      110   \n",
       "797  720    HoopaHoopa Confined  Psychic   Ghost    600  80     110       60   \n",
       "798  720     HoopaHoopa Unbound  Psychic    Dark    680  80     160       60   \n",
       "799  721              Volcanion     Fire   Water    600  80     110      120   \n",
       "\n",
       "     Sp. Atk  Sp. Def  Speed  Generation  Legendary  \n",
       "0         65       65     45           1      False  \n",
       "1         80       80     60           1      False  \n",
       "2        100      100     80           1      False  \n",
       "3        122      120     80           1      False  \n",
       "4         60       50     65           1      False  \n",
       "..       ...      ...    ...         ...        ...  \n",
       "795      100      150     50           6       True  \n",
       "796      160      110    110           6       True  \n",
       "797      150      130     70           6       True  \n",
       "798      170      130     80           6       True  \n",
       "799      130       90     70           6       True  \n",
       "\n",
       "[800 rows x 13 columns]"
      ],
      "text/html": "<div>\n<style scoped>\n    .dataframe tbody tr th:only-of-type {\n        vertical-align: middle;\n    }\n\n    .dataframe tbody tr th {\n        vertical-align: top;\n    }\n\n    .dataframe thead th {\n        text-align: right;\n    }\n</style>\n<table border=\"1\" class=\"dataframe\">\n  <thead>\n    <tr style=\"text-align: right;\">\n      <th></th>\n      <th>#</th>\n      <th>Name</th>\n      <th>Type 1</th>\n      <th>Type 2</th>\n      <th>Total</th>\n      <th>HP</th>\n      <th>Attack</th>\n      <th>Defense</th>\n      <th>Sp. Atk</th>\n      <th>Sp. Def</th>\n      <th>Speed</th>\n      <th>Generation</th>\n      <th>Legendary</th>\n    </tr>\n  </thead>\n  <tbody>\n    <tr>\n      <th>0</th>\n      <td>1</td>\n      <td>Bulbasaur</td>\n      <td>Grass</td>\n      <td>Poison</td>\n      <td>318</td>\n      <td>45</td>\n      <td>49</td>\n      <td>49</td>\n      <td>65</td>\n      <td>65</td>\n      <td>45</td>\n      <td>1</td>\n      <td>False</td>\n    </tr>\n    <tr>\n      <th>1</th>\n      <td>2</td>\n      <td>Ivysaur</td>\n      <td>Grass</td>\n      <td>Poison</td>\n      <td>405</td>\n      <td>60</td>\n      <td>62</td>\n      <td>63</td>\n      <td>80</td>\n      <td>80</td>\n      <td>60</td>\n      <td>1</td>\n      <td>False</td>\n    </tr>\n    <tr>\n      <th>2</th>\n      <td>3</td>\n      <td>Venusaur</td>\n      <td>Grass</td>\n      <td>Poison</td>\n      <td>525</td>\n      <td>80</td>\n      <td>82</td>\n      <td>83</td>\n      <td>100</td>\n      <td>100</td>\n      <td>80</td>\n      <td>1</td>\n      <td>False</td>\n    </tr>\n    <tr>\n      <th>3</th>\n      <td>3</td>\n      <td>VenusaurMega Venusaur</td>\n      <td>Grass</td>\n      <td>Poison</td>\n      <td>625</td>\n      <td>80</td>\n      <td>100</td>\n      <td>123</td>\n      <td>122</td>\n      <td>120</td>\n      <td>80</td>\n      <td>1</td>\n      <td>False</td>\n    </tr>\n    <tr>\n      <th>4</th>\n      <td>4</td>\n      <td>Charmander</td>\n      <td>Fire</td>\n      <td>NaN</td>\n      <td>309</td>\n      <td>39</td>\n      <td>52</td>\n      <td>43</td>\n      <td>60</td>\n      <td>50</td>\n      <td>65</td>\n      <td>1</td>\n      <td>False</td>\n    </tr>\n    <tr>\n      <th>...</th>\n      <td>...</td>\n      <td>...</td>\n      <td>...</td>\n      <td>...</td>\n      <td>...</td>\n      <td>...</td>\n      <td>...</td>\n      <td>...</td>\n      <td>...</td>\n      <td>...</td>\n      <td>...</td>\n      <td>...</td>\n      <td>...</td>\n    </tr>\n    <tr>\n      <th>795</th>\n      <td>719</td>\n      <td>Diancie</td>\n      <td>Rock</td>\n      <td>Fairy</td>\n      <td>600</td>\n      <td>50</td>\n      <td>100</td>\n      <td>150</td>\n      <td>100</td>\n      <td>150</td>\n      <td>50</td>\n      <td>6</td>\n      <td>True</td>\n    </tr>\n    <tr>\n      <th>796</th>\n      <td>719</td>\n      <td>DiancieMega Diancie</td>\n      <td>Rock</td>\n      <td>Fairy</td>\n      <td>700</td>\n      <td>50</td>\n      <td>160</td>\n      <td>110</td>\n      <td>160</td>\n      <td>110</td>\n      <td>110</td>\n      <td>6</td>\n      <td>True</td>\n    </tr>\n    <tr>\n      <th>797</th>\n      <td>720</td>\n      <td>HoopaHoopa Confined</td>\n      <td>Psychic</td>\n      <td>Ghost</td>\n      <td>600</td>\n      <td>80</td>\n      <td>110</td>\n      <td>60</td>\n      <td>150</td>\n      <td>130</td>\n      <td>70</td>\n      <td>6</td>\n      <td>True</td>\n    </tr>\n    <tr>\n      <th>798</th>\n      <td>720</td>\n      <td>HoopaHoopa Unbound</td>\n      <td>Psychic</td>\n      <td>Dark</td>\n      <td>680</td>\n      <td>80</td>\n      <td>160</td>\n      <td>60</td>\n      <td>170</td>\n      <td>130</td>\n      <td>80</td>\n      <td>6</td>\n      <td>True</td>\n    </tr>\n    <tr>\n      <th>799</th>\n      <td>721</td>\n      <td>Volcanion</td>\n      <td>Fire</td>\n      <td>Water</td>\n      <td>600</td>\n      <td>80</td>\n      <td>110</td>\n      <td>120</td>\n      <td>130</td>\n      <td>90</td>\n      <td>70</td>\n      <td>6</td>\n      <td>True</td>\n    </tr>\n  </tbody>\n</table>\n<p>800 rows × 13 columns</p>\n</div>"
     },
     "metadata": {},
     "execution_count": 2
    }
   ],
   "source": [
    "# Your code here:\n",
    "df = pd.read_csv('C:/Users/Sebas!/Documents/GitHub/lab-hypothesis-testing-2/your-code/pokemon.csv')\n",
    "df"
   ]
  },
  {
   "cell_type": "markdown",
   "metadata": {},
   "source": [
    "#### First we want to define a function with which we can test the means of a feature set of two samples. \n",
    "\n",
    "In the next cell you'll see the annotations of the Python function that explains what this function does and its arguments and returned value. This type of annotation is called **docstring** which is a convention used among Python developers. The docstring convention allows developers to write consistent tech documentations for their codes so that others can read. It also allows some websites to automatically parse the docstrings and display user-friendly documentations.\n",
    "\n",
    "Follow the specifications of the docstring and complete the function."
   ]
  },
  {
   "cell_type": "code",
   "execution_count": 21,
   "metadata": {},
   "outputs": [],
   "source": [
    "def t_test_features(s1, s2, features=['HP', 'Attack', 'Defense', 'Sp. Atk', 'Sp. Def', 'Speed', 'Total']):\n",
    "    \"\"\"Test means of a feature set of two samples\n",
    "    \n",
    "    Args:\n",
    "        s1 (dataframe): sample 1\n",
    "        s2 (dataframe): sample 2\n",
    "        features (list): an array of features to test\n",
    "    \n",
    "    Returns:\n",
    "        dict: a dictionary of t-test scores for each feature where the feature name is the key and the p-value is the value\n",
    "    \"\"\"\n",
    "    results = {}\n",
    "\n",
    "    # Your code here\n",
    "    for feat in features:\n",
    "        results[feat]= stats.ttest_ind(s1[feat],s2[feat])[1]\n",
    "    return results"
   ]
  },
  {
   "cell_type": "markdown",
   "metadata": {},
   "source": [
    "#### Using the `t_test_features` function, conduct t-test for Lengendary vs non-Legendary pokemons.\n",
    "\n",
    "*Hint: your output should look like below:*\n",
    "\n",
    "```\n",
    "{'HP': 1.0026911708035284e-13,\n",
    " 'Attack': 2.520372449236646e-16,\n",
    " 'Defense': 4.8269984949193316e-11,\n",
    " 'Sp. Atk': 1.5514614112239812e-21,\n",
    " 'Sp. Def': 2.2949327864052826e-15,\n",
    " 'Speed': 1.049016311882451e-18,\n",
    " 'Total': 9.357954335957446e-47}\n",
    " ```"
   ]
  },
  {
   "cell_type": "code",
   "execution_count": 22,
   "metadata": {},
   "outputs": [
    {
     "output_type": "execute_result",
     "data": {
      "text/plain": [
       "{'HP': 3.31671658762247e-12,\n",
       " 'Attack': 2.967316762928639e-16,\n",
       " 'Defense': 9.519036999934703e-06,\n",
       " 'Sp. Atk': 3.7365273045503436e-18,\n",
       " 'Sp. Def': 2.0589513714509955e-12,\n",
       " 'Speed': 8.533096620186505e-11,\n",
       " 'Total': 1.020139446488878e-28}"
      ]
     },
     "metadata": {},
     "execution_count": 22
    }
   ],
   "source": [
    "# Your code here\n",
    "#H0: difference is significant\n",
    "#H1: difference not significant\n",
    "random1_number= np.random.choice(df.loc[df['Legendary']==False]['#'],size= 100)\n",
    "random2_number= np.random.choice(df.loc[df['Legendary']==True]['#'],size=100)\n",
    "\n",
    "sample1 = df[df['#'].isin(random1_number)]\n",
    "sample2 =df[df['#'].isin(random2_number)]\n",
    "t_test_features(sample1,sample2)"
   ]
  },
  {
   "cell_type": "markdown",
   "metadata": {},
   "source": [
    "#### From the test results above, what conclusion can you make? Do Legendary and non-Legendary pokemons have significantly different stats on each feature?"
   ]
  },
  {
   "cell_type": "code",
   "execution_count": 23,
   "metadata": {},
   "outputs": [],
   "source": [
    "# Your comment here\n",
    "#the results of all the features indicate that the difference between the means is not significant since all the values are lesser than 0.05\n",
    "#This makes sense since a definition of a legendary pokemos must have a high value in theis stats in comparison of the non-legendary pokemon"
   ]
  },
  {
   "cell_type": "markdown",
   "metadata": {},
   "source": [
    "#### Next, conduct t-test for Generation 1 and Generation 2 pokemons."
   ]
  },
  {
   "cell_type": "code",
   "execution_count": 24,
   "metadata": {},
   "outputs": [
    {
     "output_type": "execute_result",
     "data": {
      "text/plain": [
       "{'HP': 0.08194825814590534,\n",
       " 'Attack': 0.7979998866899949,\n",
       " 'Defense': 0.18811075946875233,\n",
       " 'Sp. Atk': 0.07793708598365506,\n",
       " 'Sp. Def': 0.2868602150735293,\n",
       " 'Speed': 0.0035883859960843347,\n",
       " 'Total': 0.7742779713314073}"
      ]
     },
     "metadata": {},
     "execution_count": 24
    }
   ],
   "source": [
    "# Your code here\n",
    "#H0: difference is significant\n",
    "#H1: difference not significant\n",
    "random1_number= np.random.choice(df.loc[df['Generation']==1]['#'],size= 100)\n",
    "random2_number= np.random.choice(df.loc[df['Generation']==2]['#'],size=100)\n",
    "\n",
    "sample1 = df[df['#'].isin(random1_number)]\n",
    "sample2 =df[df['#'].isin(random2_number)]\n",
    "t_test_features(sample1,sample2)"
   ]
  },
  {
   "cell_type": "markdown",
   "metadata": {},
   "source": [
    "#### What conclusions can you make?"
   ]
  },
  {
   "cell_type": "code",
   "execution_count": 25,
   "metadata": {},
   "outputs": [],
   "source": [
    "# Your comment here\n",
    "#in this case the difference between generations is significant, however we have to declare the H0 in the speed feature since it is the one with the lowest pvalue"
   ]
  },
  {
   "cell_type": "markdown",
   "metadata": {},
   "source": [
    "#### Compare pokemons who have single type vs those having two types."
   ]
  },
  {
   "cell_type": "code",
   "execution_count": 26,
   "metadata": {},
   "outputs": [
    {
     "output_type": "execute_result",
     "data": {
      "text/plain": [
       "{'HP': 0.8171775210550322,\n",
       " 'Attack': 0.2894120334729596,\n",
       " 'Defense': 0.0004738489486022594,\n",
       " 'Sp. Atk': 0.9566732617493832,\n",
       " 'Sp. Def': 0.13333980983383328,\n",
       " 'Speed': 0.9274332023650182,\n",
       " 'Total': 0.14842746692295217}"
      ]
     },
     "metadata": {},
     "execution_count": 26
    }
   ],
   "source": [
    "# Your code here\n",
    "#H0: difference is significant\n",
    "#H1: difference not significant\n",
    "random1_number= np.random.choice(df[df['Type 2'].isnull()]['#'],size= 100)\n",
    "random2_number= np.random.choice(df[df['Type 2'].isnull()==False]['#'],size=100)\n",
    "\n",
    "sample1 = df[df['#'].isin(random1_number)]\n",
    "sample2 =df[df['#'].isin(random2_number)]\n",
    "t_test_features(sample1,sample2)"
   ]
  },
  {
   "cell_type": "markdown",
   "metadata": {},
   "source": [
    "#### What conclusions can you make?"
   ]
  },
  {
   "cell_type": "code",
   "execution_count": 27,
   "metadata": {},
   "outputs": [],
   "source": [
    "# Your comment here\n",
    "#Here the results between each feature are  mixed, we can see that in HP and speed the difference is significant. In attack, sp.atk the difference might be significant but not too sure and in defense, sp.defense and total we can be sure that the difference is not significant  "
   ]
  },
  {
   "cell_type": "markdown",
   "metadata": {},
   "source": [
    "#### Now, we want to compare whether there are significant differences of `Attack` vs `Defense`  and  `Sp. Atk` vs `Sp. Def` of all pokemons. Please write your code below.\n",
    "\n",
    "*Hint: are you comparing different populations or the same population?*"
   ]
  },
  {
   "cell_type": "code",
   "execution_count": 28,
   "metadata": {},
   "outputs": [
    {
     "output_type": "execute_result",
     "data": {
      "text/plain": [
       "{'HP': 0.14389954796871768,\n",
       " 'Attack': 0.8511267174168593,\n",
       " 'Defense': 0.5677420941224753,\n",
       " 'Sp. Atk': 0.6771581113175398,\n",
       " 'Sp. Def': 0.6284026421183837,\n",
       " 'Speed': 0.5222656605453379,\n",
       " 'Total': 0.8280470337891505}"
      ]
     },
     "metadata": {},
     "execution_count": 28
    }
   ],
   "source": [
    "# Your code here\n",
    "#H0: difference is significant\n",
    "#H1: difference not significant\n",
    "\n",
    "#I would use 1 population since for each pokemon, we have all the 4 stats\n",
    "random_number3 = np.random.choice(df['#'],size=100)\n",
    "\n",
    "sample3 = df[df['#'].isin(random_number3)]\n",
    "t_test_features(sample3[0:50],sample3[50:100])"
   ]
  },
  {
   "cell_type": "markdown",
   "metadata": {},
   "source": [
    "#### What conclusions can you make?"
   ]
  },
  {
   "cell_type": "code",
   "execution_count": 29,
   "metadata": {},
   "outputs": [],
   "source": [
    "# Your comment here\n",
    "#In attack vs defense the might be any significant difference in those stats, but in sp. atk and ap.def there is no significant difference"
   ]
  }
 ],
 "metadata": {
  "kernelspec": {
   "name": "python385jvsc74a57bd09efc80705562ef6f8028ba9c07828938c290468cbec0ebcf2b44f68ee94d478d",
   "display_name": "Python 3.8.5 64-bit"
  },
  "language_info": {
   "codemirror_mode": {
    "name": "ipython",
    "version": 3
   },
   "file_extension": ".py",
   "mimetype": "text/x-python",
   "name": "python",
   "nbconvert_exporter": "python",
   "pygments_lexer": "ipython3",
   "version": "3.8.5-final"
  }
 },
 "nbformat": 4,
 "nbformat_minor": 2
}